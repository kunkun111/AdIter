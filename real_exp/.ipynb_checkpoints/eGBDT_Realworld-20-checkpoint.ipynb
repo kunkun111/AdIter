{
 "cells": [
  {
   "cell_type": "markdown",
   "metadata": {},
   "source": [
    "# Initialization"
   ]
  },
  {
   "cell_type": "markdown",
   "metadata": {},
   "source": [
    "## Import Packages "
   ]
  },
  {
   "cell_type": "code",
   "execution_count": 1,
   "metadata": {
    "ExecuteTime": {
     "end_time": "2021-05-11T01:42:22.812917Z",
     "start_time": "2021-05-11T01:42:20.040562Z"
    }
   },
   "outputs": [
    {
     "name": "stdout",
     "output_type": "stream",
     "text": [
      "Pixiedust database opened successfully\n"
     ]
    },
    {
     "data": {
      "text/html": [
       "\n",
       "        <div style=\"margin:10px\">\n",
       "            <a href=\"https://github.com/ibm-watson-data-lab/pixiedust\" target=\"_new\">\n",
       "                <img src=\"https://github.com/ibm-watson-data-lab/pixiedust/raw/master/docs/_static/pd_icon32.png\" style=\"float:left;margin-right:10px\"/>\n",
       "            </a>\n",
       "            <span>Pixiedust version 1.1.18</span>\n",
       "        </div>\n",
       "        "
      ],
      "text/plain": [
       "<IPython.core.display.HTML object>"
      ]
     },
     "metadata": {},
     "output_type": "display_data"
    },
    {
     "data": {
      "text/html": [
       "<div>Warning: You are not running the latest version of PixieDust. Current is 1.1.18, Latest is 1.1.19</div>"
      ],
      "text/plain": [
       "<IPython.core.display.HTML object>"
      ]
     },
     "metadata": {},
     "output_type": "display_data"
    },
    {
     "data": {
      "text/html": [
       "\n",
       "                <div>Please copy and run the following command in a new cell to upgrade: <span style=\"background-color:#ececec;font-family:monospace;padding:0 5px\">!pip install --user --upgrade pixiedust</span></div>\n",
       "            "
      ],
      "text/plain": [
       "<IPython.core.display.HTML object>"
      ]
     },
     "metadata": {},
     "output_type": "display_data"
    },
    {
     "data": {
      "text/html": [
       "<div>Please restart kernel after upgrading.</div>"
      ],
      "text/plain": [
       "<IPython.core.display.HTML object>"
      ]
     },
     "metadata": {},
     "output_type": "display_data"
    }
   ],
   "source": [
    "from sklearn.tree import DecisionTreeRegressor\n",
    "import numpy as np\n",
    "import matplotlib.pyplot as plt\n",
    "from sklearn import metrics\n",
    "from sklearn.model_selection import KFold\n",
    "from sklearn.cluster import KMeans\n",
    "from scipy.io import arff\n",
    "import pandas as pd\n",
    "from sklearn.preprocessing import LabelEncoder\n",
    "import time\n",
    "from sklearn.metrics import confusion_matrix, precision_score, accuracy_score, recall_score, f1_score, roc_auc_score, roc_curve\n",
    "import os\n",
    "from skmultiflow.drift_detection.adwin import ADWIN\n",
    "from sklearn.ensemble import GradientBoostingRegressor\n",
    "import arff\n",
    "from tqdm import tqdm\n",
    "import pixiedust\n",
    "\n",
    "from copy import deepcopy"
   ]
  },
  {
   "cell_type": "markdown",
   "metadata": {},
   "source": [
    "## GBDT main class"
   ]
  },
  {
   "cell_type": "code",
   "execution_count": 2,
   "metadata": {
    "ExecuteTime": {
     "end_time": "2021-05-11T01:42:22.827503Z",
     "start_time": "2021-05-11T01:42:22.814300Z"
    }
   },
   "outputs": [],
   "source": [
    "class GBDT(object):\n",
    "    def __init__(self,\n",
    "                 max_iter=50,\n",
    "                 sample_rate=0.8,\n",
    "                 learn_rate=0.01,\n",
    "                 max_depth=4,\n",
    "                 new_tree_max_iter=10):\n",
    "\n",
    "        self.max_iter = max_iter\n",
    "        self.sample_rate = sample_rate # 0 < sample_rate <= 1\n",
    "        self.learn_rate = learn_rate\n",
    "        self.max_depth = max_depth \n",
    "        self.dtrees = []\n",
    "        self.original_f = None\n",
    "        self.new_tree_max_iter = new_tree_max_iter\n",
    "\n",
    "    def fit(self, x_train, y_train):\n",
    "\n",
    "        n, m = x_train.shape\n",
    "        \n",
    "        f = np.ones(n) * np.mean(y_train)\n",
    "        self.original_f = np.mean(y_train)\n",
    "        self.residual_mean = np.zeros(self.max_iter)\n",
    "        n_sample = int(n * self.sample_rate)\n",
    "\n",
    "        for iter_ in range(self.max_iter): \n",
    "            sample_idx = np.random.permutation(n)[:n_sample]\n",
    "            x_train_subset, y_train_subset = x_train[sample_idx, :], y_train[\n",
    "                sample_idx]\n",
    "            y_predict_subset = np.zeros(n_sample)\n",
    "            \n",
    "            for j in range(n_sample):\n",
    "                k = sample_idx[j]\n",
    "                y_predict_subset[j] = f[k]\n",
    "\n",
    "            residual = y_train_subset - y_predict_subset\n",
    "\n",
    "            dtree = DecisionTreeRegressor(max_depth=self.max_depth)\n",
    "            # fit to negative gradient\n",
    "            dtree.fit(x_train_subset, residual * self.learn_rate)\n",
    "            self.dtrees.append(dtree)  # append new tree\n",
    "\n",
    "            # update prediction score\n",
    "            for j in range(n):\n",
    "                pre = dtree.predict(np.array([x_train[j]]))\n",
    "                f[j] += pre\n",
    "\n",
    "    def predict(self, x):\n",
    "\n",
    "        n = x.shape[0]\n",
    "        y = np.zeros([n, len(self.dtrees)])\n",
    "        \n",
    "        for iter_ in range(len(self.dtrees)):\n",
    "            dtree = self.dtrees[iter_]\n",
    "\n",
    "            y[:, iter_] = dtree.predict(x)\n",
    "\n",
    "        init_residual = np.ones(y.shape[0]) * self.original_f\n",
    "        self.cumulated_pred_score = np.cumsum(y, axis=1)\n",
    "        return np.sum(y, axis=1) + init_residual.reshape(1, -1)\n",
    "    \n",
    "    def best_tree_purning(self, y_test):\n",
    "        init_residual = np.ones(y_test.shape[0]) * self.original_f\n",
    "        residual = y_test.reshape(1, -1) - init_residual.reshape(1, -1)\n",
    "        residual_mat = np.repeat(residual, len(self.dtrees), axis=0).T\n",
    "        tree_purning_residual = np.abs(residual_mat - self.cumulated_pred_score)\n",
    "        tree_purning_residual = np.mean(tree_purning_residual, axis=0)\n",
    "        tree_purning_idx = np.argmin(tree_purning_residual)\n",
    "        self.dtrees = self.dtrees[:tree_purning_idx+1]\n",
    "        self.max_iter = len(self.dtrees)\n",
    "        \n",
    "    def incremental_fit(self, x_test, y_test, pred_score, new_tree_max_iter):\n",
    "        \n",
    "        n, m = x_test.shape\n",
    "        \n",
    "        f = pred_score\n",
    "      \n",
    "        n_sample = int(n*self.sample_rate)\n",
    "        \n",
    "        for iter_ in range(new_tree_max_iter):\n",
    "            \n",
    "            sample_idx = np.random.permutation(n)[:n_sample]\n",
    "            \n",
    "            y_residual = y_test - f\n",
    "            x_train_subset, residual_train_subset = x_test[sample_idx, :], y_residual[sample_idx]\n",
    "            \n",
    "            new_tree = DecisionTreeRegressor(max_depth = self.max_depth)\n",
    "            new_tree.fit(x_train_subset, residual_train_subset * self.learn_rate)\n",
    "            self.dtrees.append(new_tree)\n",
    "            self.max_iter += 1\n",
    "            \n",
    "            for j in range(n):\n",
    "                pre = new_tree.predict(np.array([x_test[j]]))\n",
    "                f[j] += pre"
   ]
  },
  {
   "cell_type": "markdown",
   "metadata": {},
   "source": [
    "## Loading .arff Dataset"
   ]
  },
  {
   "cell_type": "code",
   "execution_count": 3,
   "metadata": {
    "ExecuteTime": {
     "end_time": "2021-05-11T01:42:23.076089Z",
     "start_time": "2021-05-11T01:42:23.073128Z"
    }
   },
   "outputs": [],
   "source": [
    "def load_arff(path, dataset_name, num_copy):\n",
    "    if num_copy == -1:\n",
    "        file_path = path + dataset_name + '/'+ dataset_name + '.arff'\n",
    "        dataset = arff.load(open(file_path), encode_nominal=True)\n",
    "    else:\n",
    "        file_path = path + dataset_name + '/'+ dataset_name + str(num_copy) + '.arff'\n",
    "        dataset = arff.load(open(file_path), encode_nominal=True)\n",
    "    return np.array(dataset[\"data\"])"
   ]
  },
  {
   "cell_type": "markdown",
   "metadata": {},
   "source": [
    "# Experiment"
   ]
  },
  {
   "cell_type": "markdown",
   "metadata": {},
   "source": [
    "## Algorithms"
   ]
  },
  {
   "cell_type": "markdown",
   "metadata": {},
   "source": [
    "### GBDT Baseline"
   ]
  },
  {
   "cell_type": "code",
   "execution_count": 4,
   "metadata": {
    "ExecuteTime": {
     "end_time": "2021-05-11T01:42:25.817365Z",
     "start_time": "2021-05-11T01:42:25.812115Z"
    }
   },
   "outputs": [],
   "source": [
    "def evaluation_baseline_GBDT(data, ini_train_size, win_size, **GBDT_parm):\n",
    "\n",
    "    x_train = data[0:ini_train_size, :-1]\n",
    "    y_train = data[0:ini_train_size, -1]\n",
    "\n",
    "    model = GBDT(**GBDT_parm)\n",
    "    model.fit(x_train, y_train)\n",
    "\n",
    "    kf = KFold(int((data.shape[0] - ini_train_size) / win_size))\n",
    "    stream = data[ini_train_size:, :]\n",
    "    pred = np.zeros(stream.shape[0])\n",
    "    batch_acc = []\n",
    "    batch_f1=[]\n",
    "    \n",
    "    for train_index, test_index in tqdm(kf.split(stream), total=kf.get_n_splits(), desc=\"#batch\"):\n",
    "        \n",
    "        x_test = stream[test_index, :-1]\n",
    "        y_test = stream[test_index, -1]\n",
    "\n",
    "        y_residual = model.predict(x_test)\n",
    "        y_pred = (y_residual >= 0.5)\n",
    "        \n",
    "        pred[test_index] = y_pred\n",
    "        batch_acc.append(metrics.accuracy_score(y_test, y_pred.T))\n",
    "        batch_f1.append(metrics.f1_score(y_test, y_pred.T,average='macro'))\n",
    "    \n",
    "    return batch_acc, batch_f1, pred"
   ]
  },
  {
   "cell_type": "markdown",
   "metadata": {},
   "source": [
    "### Sliding Window and Retrain GBDT"
   ]
  },
  {
   "cell_type": "code",
   "execution_count": 5,
   "metadata": {
    "ExecuteTime": {
     "end_time": "2021-05-11T01:42:26.820015Z",
     "start_time": "2021-05-11T01:42:26.814487Z"
    }
   },
   "outputs": [],
   "source": [
    "def evaluation_sliding_GBDT(data, ini_train_size, win_size, **GBDT_parm):\n",
    "\n",
    "    x_train = data[0:ini_train_size, :-1]\n",
    "    y_train = data[0:ini_train_size, -1]\n",
    "\n",
    "    model = GBDT(**GBDT_parm)\n",
    "    model.fit(x_train, y_train)\n",
    "\n",
    "    kf = KFold(int((data.shape[0] - ini_train_size) / win_size))\n",
    "    stream = data[ini_train_size:, :]\n",
    "    pred = np.zeros(stream.shape[0])\n",
    "    batch_acc = []\n",
    "    batch_f1=[]\n",
    "\n",
    "    \n",
    "    for train_index, test_index in tqdm(kf.split(stream), total=kf.get_n_splits(), desc=\"#batch\"):\n",
    "\n",
    "        x_test = stream[test_index, :-1]\n",
    "        y_test = stream[test_index, -1]\n",
    "\n",
    "        y_residual = model.predict(x_test)\n",
    "        y_pred = (y_residual >= 0.5)\n",
    "    \n",
    "        pred[test_index] = np.squeeze(y_pred)\n",
    "        batch_acc.append(metrics.accuracy_score(y_test, y_pred.T))\n",
    "        batch_f1.append(metrics.f1_score(y_test, y_pred.T,average='macro'))\n",
    "\n",
    "        \n",
    "        model = GBDT(**GBDT_parm)\n",
    "        model.fit(x_test, y_test)\n",
    "\n",
    "    return batch_acc, batch_f1, pred"
   ]
  },
  {
   "cell_type": "markdown",
   "metadata": {},
   "source": [
    "### Naive Incremental GBDT (iGBDT)"
   ]
  },
  {
   "cell_type": "code",
   "execution_count": 6,
   "metadata": {
    "ExecuteTime": {
     "end_time": "2021-05-11T01:42:27.770838Z",
     "start_time": "2021-05-11T01:42:27.765144Z"
    }
   },
   "outputs": [],
   "source": [
    "def evaluation_naive_iGBDT(data, ini_train_size, win_size, num_inc_tree, **GBDT_parm):\n",
    "\n",
    "    x_train = data[0:ini_train_size, :-1]\n",
    "    y_train = data[0:ini_train_size, -1]        \n",
    "\n",
    "    model = GBDT(**GBDT_parm)\n",
    "    model.fit(x_train, y_train)\n",
    "\n",
    "    kf = KFold(int((data.shape[0] - ini_train_size) / win_size))\n",
    "    stream = data[ini_train_size:, :]\n",
    "    pred = np.zeros(stream.shape[0])\n",
    "    batch_acc = []\n",
    "    batch_f1=[]\n",
    "    \n",
    "    for train_index, test_index in tqdm(kf.split(stream), total=kf.get_n_splits(), desc=\"#batch\"):\n",
    "\n",
    "        x_test = stream[test_index, :-1]\n",
    "        y_test = stream[test_index, -1]\n",
    "\n",
    "        y_pred_score = model.predict(x_test)\n",
    "        y_pred_label = (y_pred_score >= 0.5)\n",
    "        \n",
    "        batch_acc.append(metrics.accuracy_score(y_test, y_pred_label.T))\n",
    "        batch_f1.append(metrics.f1_score(y_test, y_pred_label.T,average='macro'))\n",
    "        \n",
    "        pred[test_index] = y_pred_label\n",
    "\n",
    "        y_pred_score = model.predict(x_test)\n",
    "        y_pred_score = np.squeeze(y_pred_score)\n",
    "        \n",
    "        model.incremental_fit(x_test, y_test, y_pred_score, num_inc_tree)\n",
    "                \n",
    "        x_train = x_test\n",
    "        y_train = y_test\n",
    "    \n",
    "    return batch_acc, batch_f1, pred"
   ]
  },
  {
   "cell_type": "markdown",
   "metadata": {},
   "source": [
    "### eGBDT"
   ]
  },
  {
   "cell_type": "code",
   "execution_count": 7,
   "metadata": {
    "ExecuteTime": {
     "end_time": "2021-05-11T01:42:38.210895Z",
     "start_time": "2021-05-11T01:42:38.203117Z"
    }
   },
   "outputs": [],
   "source": [
    "def evaluation_eGBDT(data, ini_train_size, win_size, max_tree, num_ince_tree, **GBDT_pram):\n",
    "\n",
    "    x_train = data[0:ini_train_size, :-1]\n",
    "    y_train = data[0:ini_train_size, -1]\n",
    "    model = GBDT(**GBDT_pram)\n",
    "    model.fit(x_train, y_train)\n",
    "\n",
    "    kf = KFold(int((data.shape[0] - ini_train_size) / win_size))\n",
    "    stream = data[ini_train_size:, :]\n",
    "    pred = np.zeros(stream.shape[0])\n",
    "    accuracy = []\n",
    "    f1 = []\n",
    "    prune_tree = []#kun\n",
    "    tree_before_purning = []\n",
    "    tree_after_purning =[]\n",
    "\n",
    "    for train_index, test_index in tqdm(kf.split(stream), total=kf.get_n_splits(), desc=\"#batch\"):\n",
    "\n",
    "        x_test = stream[test_index, :-1]\n",
    "        y_test = stream[test_index, -1]\n",
    "        \n",
    "        # Step 1. Make Prediction\n",
    "        y_pred_score = model.predict(x_test)\n",
    "        y_pred_score = np.squeeze(y_pred_score)\n",
    "        y_pred_label = (y_pred_score >= 0.5)\n",
    "\n",
    "        accuracy.append(metrics.accuracy_score(y_test, y_pred_label.T))\n",
    "        f1.append(metrics.f1_score(y_test,y_pred_label.T,average='macro'))\n",
    "        \n",
    "        pred[test_index] = y_pred_label\n",
    "        \n",
    "        # Step 2. Purning GBDT\n",
    "        num_tree_before_purning = len(model.dtrees)\n",
    "        model.best_tree_purning(y_test)\n",
    "        num_tree_after_purning = len(model.dtrees)\n",
    "        #print(test_index[0], 'Purned Num Tree,', num_tree_before_purning - num_tree_after_purning)\n",
    "        prune_tree.append(num_tree_before_purning - num_tree_after_purning)#kun\n",
    "        tree_before_purning.append(num_tree_before_purning)\n",
    "        tree_after_purning.append(num_tree_after_purning)\n",
    "        \n",
    "        # Step 3. Update GBDT\n",
    "        # Step 3.1 Drift Detection, If num_tree < num_base\n",
    "        if num_tree_after_purning < GBDT_pram['max_iter']:\n",
    "            model = GBDT(**GBDT_pram)\n",
    "            model.fit(x_test, y_test)\n",
    "            GBDT_ensemble_dict = {}\n",
    "            last_best = 1\n",
    "        else:\n",
    "            # Step 3.2 Incremental Update with Fixed Number of Trees\n",
    "            # This parameter can be ensemble, such as {5, 10, 15 20, 25}\n",
    "            if len(model.dtrees) <= max_tree:\n",
    "                y_pred_score = np.squeeze(model.predict(x_test))\n",
    "                model.incremental_fit(x_test, y_test, y_pred_score, num_ince_tree)\n",
    "    tqdm.write('Num tree at the end,' + str(len(model.dtrees)))\n",
    "    \n",
    "    return accuracy, f1, pred#, prune_tree,tree_before_purning,tree_after_purning #kun"
   ]
  },
  {
   "cell_type": "markdown",
   "metadata": {},
   "source": [
    "### eGBDT Ensemble"
   ]
  },
  {
   "cell_type": "code",
   "execution_count": 8,
   "metadata": {
    "ExecuteTime": {
     "end_time": "2021-05-11T01:42:41.969535Z",
     "start_time": "2021-05-11T01:42:41.961298Z"
    }
   },
   "outputs": [],
   "source": [
    "def evaluation_eGBDT_ensemble(data, ini_train_size, win_size, max_tree,\n",
    "                              max_num_inc_tree, gap_num_inc_tree, **GBDT_pram):\n",
    "\n",
    "    \n",
    "    x_train = data[0:ini_train_size, :-1]\n",
    "    y_train = data[0:ini_train_size, -1]\n",
    "\n",
    "    eGBDT_dict = {}\n",
    "    for i in range(5, max_num_inc_tree, gap_num_inc_tree):\n",
    "        eGBDT_dict[i] = GBDT(**GBDT_pram)\n",
    "        eGBDT_dict[i].fit(x_train, y_train)\n",
    "\n",
    "    kf = KFold(int((data.shape[0] - ini_train_size) / win_size))\n",
    "    stream = data[ini_train_size:, :]\n",
    "    pred = np.zeros(stream.shape[0])\n",
    "    accuracy = []\n",
    "    f1 = []\n",
    "    \n",
    "\n",
    "    for train_index, test_index in tqdm(kf.split(stream),\n",
    "                                        total=kf.get_n_splits(),\n",
    "                                        desc=\"#batch\"):\n",
    "        x_test = stream[test_index, :-1]\n",
    "        y_test = stream[test_index, -1]\n",
    "\n",
    "        y_pred_score_aver = np.zeros(x_test.shape[0])\n",
    "        for ie in eGBDT_dict.keys():\n",
    "            y_pred_score = eGBDT_dict[ie].predict(x_test)\n",
    "            y_pred_score = np.squeeze(y_pred_score)\n",
    "            y_pred_score_aver = y_pred_score_aver + y_pred_score\n",
    "            y_pred_label = (y_pred_score >= 0.5)\n",
    "\n",
    "        y_pred_score_aver = y_pred_score_aver / len(eGBDT_dict)\n",
    "        y_pred_label = (y_pred_score_aver >= 0.5)\n",
    "\n",
    "        accuracy.append(metrics.accuracy_score(y_test, y_pred_label.T))\n",
    "        f1.append(metrics.f1_score(y_test,y_pred_label.T,average='macro'))\n",
    "        \n",
    "        pred[test_index] = y_pred_label\n",
    "\n",
    "        for ie in eGBDT_dict.keys():\n",
    "\n",
    "            eGBDT_dict[ie].best_tree_purning(y_test)\n",
    "\n",
    "            if len(eGBDT_dict[ie].dtrees) < GBDT_pram['max_iter']:\n",
    "                eGBDT_dict[ie] = GBDT(**GBDT_pram)\n",
    "                eGBDT_dict[ie].fit(x_test, y_test)\n",
    "            else:\n",
    "                if len(eGBDT_dict[ie].dtrees) <= max_tree:\n",
    "                    y_pred_score = np.squeeze(eGBDT_dict[ie].predict(x_test))\n",
    "                    eGBDT_dict[ie].incremental_fit(x_test, y_test,\n",
    "                                                   y_pred_score, ie)\n",
    "    return accuracy, f1, pred"
   ]
  },
  {
   "cell_type": "markdown",
   "metadata": {},
   "source": [
    "## Run Real-world Experiment"
   ]
  },
  {
   "cell_type": "code",
   "execution_count": 49,
   "metadata": {
    "ExecuteTime": {
     "end_time": "2021-05-11T11:27:28.960907Z",
     "start_time": "2021-05-11T11:27:28.949833Z"
    }
   },
   "outputs": [],
   "source": [
    "def exp_realworld(path, dataset_name, num_run, exp_function, **exp_parm):\n",
    "\n",
    "    aver_total_acc = np.zeros(num_run)\n",
    "    aver_total_f1 = np.zeros(num_run)\n",
    "\n",
    "    np.random.seed(0)\n",
    "    data = load_arff(path, dataset_name, -1)\n",
    "\n",
    "    num_eval = int(\n",
    "        (data.shape[0] - exp_parm['ini_train_size']) / exp_parm['win_size'])\n",
    "    batch_acc = np.zeros([num_run, num_eval])\n",
    "    batch_f1 = np.zeros([num_run, num_eval])\n",
    "    \n",
    "    batch_prune_tree=np.zeros([num_run, num_eval])\n",
    "    batch_tree_before_purning=np.zeros([num_run, num_eval])\n",
    "    batch_tree_after_purning=np.zeros([num_run, num_eval])\n",
    "    \n",
    "    \n",
    "    tqdm.write('='*20)\n",
    "    tqdm.write((dataset_name + str(0)).center(20))\n",
    "    batch_acc[0], batch_f1[0], pred = exp_function(data, **exp_parm)\n",
    "    aver_total_acc[0] = metrics.accuracy_score(\n",
    "        data[exp_parm['ini_train_size']:, -1], pred)\n",
    "    aver_total_f1[0] = metrics.f1_score(\n",
    "        data[exp_parm['ini_train_size']:, -1], pred,average='macro')\n",
    "    tqdm.write('Current r_seed acc,' + str(aver_total_acc[0]))\n",
    "    tqdm.write('Current r_seed f1,' + str(aver_total_f1[0]))\n",
    "\n",
    "#save result\n",
    "    print(pred.shape)\n",
    "    print(data[exp_parm['ini_train_size']:, -1].shape)\n",
    "    result = np.zeros([pred.shape[0], 2])\n",
    "    result[:, 0] = pred\n",
    "    result[:, 1] = data[exp_parm['ini_train_size']:, -1]\n",
    "    np.savetxt(str(dataset_name)+'_iGBDT.out', result , delimiter=',')\n",
    "    \n",
    "    \n",
    "\n",
    "    for r_seed in range(1, num_run):\n",
    "        np.random.seed(r_seed)\n",
    "        data = load_arff(path, dataset_name, -1)\n",
    "        num_eval = int((data.shape[0] - exp_parm['ini_train_size']) /\n",
    "                       exp_parm['win_size'])\n",
    "        tqdm.write('='*20)\n",
    "        tqdm.write((dataset_name + str(r_seed)).center(20))\n",
    "        batch_acc[r_seed], batch_f1[r_seed], batch_gmean[r_seed],pred = exp_function(data, **exp_parm)\n",
    "        aver_total_acc[r_seed] = metrics.accuracy_score(\n",
    "            data[exp_parm['ini_train_size']:, -1], pred)\n",
    "        tqdm.write('Current r_seed acc,' + str(aver_total_acc[r_seed]))\n",
    "        aver_total_f1[r_seed] = metrics.f1_score(\n",
    "            data[exp_parm['ini_train_size']:, -1], pred,average='macro')\n",
    "        \n",
    "        tqdm.write('Current r_seed acc,' + str(aver_total_acc[r_seed]))\n",
    "        tqdm.write('Current r_seed f1,' + str(aver_total_f1[r_seed]))\n",
    "        \n",
    "        \n",
    "    tqdm.write('Average acc,' + str(np.mean(aver_total_acc)))\n",
    "    tqdm.write('Average f1,' + str(np.mean(aver_total_f1)))\n",
    "    tqdm.write('Std acc,' + str(np.std(aver_total_acc)))\n",
    "              \n",
    "    \n",
    "    "
   ]
  },
  {
   "cell_type": "code",
   "execution_count": 50,
   "metadata": {
    "ExecuteTime": {
     "end_time": "2021-05-11T11:27:31.209878Z",
     "start_time": "2021-05-11T11:27:31.207530Z"
    }
   },
   "outputs": [],
   "source": [
    "path = '/data/kunwang/TNNLS/Realworld Data/'\n",
    "num_run = 1\n",
    "datasets = [\n",
    "    'elecNorm', 'airline', 'weather', 'usenet1', 'usenet2',\n",
    "    'spam_corpus_x2_feature_selected'\n",
    "]"
   ]
  },
  {
   "cell_type": "markdown",
   "metadata": {},
   "source": [
    "### elecNorm Setting "
   ]
  },
  {
   "cell_type": "markdown",
   "metadata": {},
   "source": [
    "#### eGBDT "
   ]
  },
  {
   "cell_type": "code",
   "execution_count": 36,
   "metadata": {
    "ExecuteTime": {
     "end_time": "2021-05-11T06:10:48.187053Z",
     "start_time": "2021-05-11T06:08:58.418126Z"
    }
   },
   "outputs": [
    {
     "name": "stdout",
     "output_type": "stream",
     "text": [
      "====================\n",
      "     elecNorm0      \n"
     ]
    },
    {
     "name": "stderr",
     "output_type": "stream",
     "text": [
      "#batch: 100%|██████████| 452/452 [01:47<00:00,  4.19it/s]"
     ]
    },
    {
     "name": "stdout",
     "output_type": "stream",
     "text": [
      "Num tree at the end,558\n",
      "Current r_seed acc,0.7553746792886844\n",
      "Current r_seed f1,0.7519610251253868\n",
      "(45212,)\n",
      "(45212,)\n",
      "Average acc,0.7553746792886844\n",
      "Average f1,0.7519610251253868\n",
      "Std acc,0.0\n"
     ]
    },
    {
     "name": "stderr",
     "output_type": "stream",
     "text": [
      "\n"
     ]
    }
   ],
   "source": [
    "eGBDT_parm = {\n",
    "    'ini_train_size': 100,\n",
    "    'win_size': 100,\n",
    "    'max_tree': 10000,\n",
    "    'num_ince_tree':25\n",
    "}\n",
    "\n",
    "GBDT_pram = {\n",
    "    'max_iter': 200,\n",
    "    'sample_rate': 0.8,\n",
    "    'learn_rate': 0.01,\n",
    "    'max_depth': 4\n",
    "}\n",
    "\n",
    "eGBDT_parm.update(GBDT_pram)\n",
    "dataset_name = 'elecNorm'\n",
    "exp_realworld(path, dataset_name, num_run, evaluation_eGBDT,\n",
    "              **eGBDT_parm)"
   ]
  },
  {
   "cell_type": "markdown",
   "metadata": {},
   "source": [
    "#### eGBDT Ensemble"
   ]
  },
  {
   "cell_type": "code",
   "execution_count": 43,
   "metadata": {
    "ExecuteTime": {
     "end_time": "2021-05-11T07:01:52.019902Z",
     "start_time": "2021-05-11T06:45:47.681525Z"
    }
   },
   "outputs": [
    {
     "name": "stdout",
     "output_type": "stream",
     "text": [
      "====================\n",
      "     elecNorm0      \n"
     ]
    },
    {
     "name": "stderr",
     "output_type": "stream",
     "text": [
      "#batch: 100%|██████████| 452/452 [15:57<00:00,  2.12s/it]"
     ]
    },
    {
     "name": "stdout",
     "output_type": "stream",
     "text": [
      "Current r_seed acc,0.7922454215694948\n",
      "Current r_seed f1,0.7854836662071736\n",
      "(45212,)\n",
      "(45212,)\n",
      "Average acc,0.7922454215694948\n",
      "Average f1,0.7854836662071736\n",
      "Std acc,0.0\n"
     ]
    },
    {
     "name": "stderr",
     "output_type": "stream",
     "text": [
      "\n"
     ]
    }
   ],
   "source": [
    "eGBDT_ensemble_parm = {\n",
    "    'ini_train_size': 100,\n",
    "    'win_size': 100,\n",
    "    'max_tree': 1000,\n",
    "    'max_num_inc_tree': 125, \n",
    "    'gap_num_inc_tree': 25\n",
    "}\n",
    "\n",
    "GBDT_pram = {\n",
    "    'max_iter': 200,\n",
    "    'sample_rate': 0.8,\n",
    "    'learn_rate': 0.01,\n",
    "    'max_depth': 4\n",
    "}\n",
    "\n",
    "eGBDT_ensemble_parm.update(GBDT_pram)\n",
    "dataset_name = 'elecNorm'\n",
    "exp_realworld(path, dataset_name, num_run, evaluation_eGBDT_ensemble,\n",
    "              **eGBDT_ensemble_parm)"
   ]
  },
  {
   "cell_type": "markdown",
   "metadata": {},
   "source": [
    "### weather Setting "
   ]
  },
  {
   "cell_type": "markdown",
   "metadata": {},
   "source": [
    "#### eGBDT "
   ]
  },
  {
   "cell_type": "code",
   "execution_count": 37,
   "metadata": {
    "ExecuteTime": {
     "end_time": "2021-05-11T06:11:36.763729Z",
     "start_time": "2021-05-11T06:10:48.188597Z"
    }
   },
   "outputs": [
    {
     "name": "stdout",
     "output_type": "stream",
     "text": [
      "====================\n",
      "      weather0      \n"
     ]
    },
    {
     "name": "stderr",
     "output_type": "stream",
     "text": [
      "#batch: 100%|██████████| 69/69 [00:43<00:00,  1.58it/s]"
     ]
    },
    {
     "name": "stdout",
     "output_type": "stream",
     "text": [
      "Num tree at the end,486\n",
      "Current r_seed acc,0.7877360357863901\n",
      "Current r_seed f1,0.7433312990768729\n",
      "(25261,)\n",
      "(25261,)\n",
      "Average acc,0.7877360357863901\n",
      "Average f1,0.7433312990768729\n",
      "Std acc,0.0\n"
     ]
    },
    {
     "name": "stderr",
     "output_type": "stream",
     "text": [
      "\n"
     ]
    }
   ],
   "source": [
    "eGBDT_parm = {\n",
    "    'ini_train_size': 365,\n",
    "    'win_size': 365,\n",
    "    'max_tree': 10000,\n",
    "    'num_ince_tree': 25\n",
    "}\n",
    "\n",
    "GBDT_pram = {\n",
    "    'max_iter': 200,\n",
    "    'sample_rate': 0.8,\n",
    "    'learn_rate': 0.01,\n",
    "    'max_depth': 4\n",
    "}\n",
    "\n",
    "eGBDT_parm.update(GBDT_pram)\n",
    "dataset_name = 'weather'\n",
    "exp_realworld(path, dataset_name, num_run, evaluation_eGBDT,\n",
    "              **eGBDT_parm)"
   ]
  },
  {
   "cell_type": "markdown",
   "metadata": {},
   "source": [
    "#### eGBDT Ensemble"
   ]
  },
  {
   "cell_type": "code",
   "execution_count": 44,
   "metadata": {
    "ExecuteTime": {
     "end_time": "2021-05-11T07:09:51.618005Z",
     "start_time": "2021-05-11T07:01:52.021509Z"
    }
   },
   "outputs": [
    {
     "name": "stdout",
     "output_type": "stream",
     "text": [
      "====================\n",
      "      weather0      \n"
     ]
    },
    {
     "name": "stderr",
     "output_type": "stream",
     "text": [
      "#batch: 100%|██████████| 69/69 [07:36<00:00,  6.62s/it]"
     ]
    },
    {
     "name": "stdout",
     "output_type": "stream",
     "text": [
      "Current r_seed acc,0.7932385891294882\n",
      "Current r_seed f1,0.7496154098954897\n",
      "(25261,)\n",
      "(25261,)\n",
      "Average acc,0.7932385891294882\n",
      "Average f1,0.7496154098954897\n",
      "Std acc,0.0\n"
     ]
    },
    {
     "name": "stderr",
     "output_type": "stream",
     "text": [
      "\n"
     ]
    }
   ],
   "source": [
    "eGBDT_ensemble_parm = {\n",
    "    'ini_train_size': 365,\n",
    "    'win_size': 365,\n",
    "    'max_tree': 10000,\n",
    "    'max_num_inc_tree': 125, \n",
    "    'gap_num_inc_tree': 25\n",
    "}\n",
    "\n",
    "GBDT_pram = {\n",
    "    'max_iter': 200,\n",
    "    'sample_rate': 0.8,\n",
    "    'learn_rate': 0.01,\n",
    "    'max_depth': 4\n",
    "}\n",
    "\n",
    "eGBDT_ensemble_parm.update(GBDT_pram)\n",
    "dataset_name = 'weather'\n",
    "exp_realworld(path, dataset_name, num_run, evaluation_eGBDT_ensemble,\n",
    "              **eGBDT_ensemble_parm)"
   ]
  },
  {
   "cell_type": "markdown",
   "metadata": {},
   "source": [
    "### airline Setting "
   ]
  },
  {
   "cell_type": "markdown",
   "metadata": {},
   "source": [
    "#### eGBDT"
   ]
  },
  {
   "cell_type": "code",
   "execution_count": 38,
   "metadata": {
    "ExecuteTime": {
     "end_time": "2021-05-11T06:42:46.386620Z",
     "start_time": "2021-05-11T06:11:36.765401Z"
    }
   },
   "outputs": [
    {
     "name": "stdout",
     "output_type": "stream",
     "text": [
      "====================\n",
      "      airline0      \n"
     ]
    },
    {
     "name": "stderr",
     "output_type": "stream",
     "text": [
      "#batch: 100%|██████████| 5392/5392 [31:00<00:00,  2.90it/s]  \n"
     ]
    },
    {
     "name": "stdout",
     "output_type": "stream",
     "text": [
      "Num tree at the end,200\n",
      "Current r_seed acc,0.6325417267000814\n",
      "Current r_seed f1,0.6215690418187166\n",
      "(539283,)\n",
      "(539283,)\n",
      "Average acc,0.6325417267000814\n",
      "Average f1,0.6215690418187166\n",
      "Std acc,0.0\n"
     ]
    }
   ],
   "source": [
    "eGBDT_parm = {\n",
    "    'ini_train_size': 100,\n",
    "    'win_size': 100,\n",
    "    'max_tree': 10000,\n",
    "    'num_ince_tree': 25\n",
    "}\n",
    "\n",
    "GBDT_pram = {\n",
    "    'max_iter': 200,\n",
    "    'sample_rate': 0.8,\n",
    "    'learn_rate': 0.01,\n",
    "    'max_depth': 4\n",
    "}\n",
    "\n",
    "eGBDT_parm.update(GBDT_pram)\n",
    "dataset_name = 'airline'\n",
    "exp_realworld(path, dataset_name, num_run, evaluation_eGBDT,\n",
    "              **eGBDT_parm)"
   ]
  },
  {
   "cell_type": "markdown",
   "metadata": {},
   "source": [
    "#### eGBDT Ensemble"
   ]
  },
  {
   "cell_type": "code",
   "execution_count": 48,
   "metadata": {
    "ExecuteTime": {
     "end_time": "2021-05-11T11:21:05.653891Z",
     "start_time": "2021-05-11T07:16:51.333510Z"
    }
   },
   "outputs": [
    {
     "name": "stdout",
     "output_type": "stream",
     "text": [
      "====================\n",
      "      airline0      \n"
     ]
    },
    {
     "name": "stderr",
     "output_type": "stream",
     "text": [
      "#batch: 100%|██████████| 5392/5392 [4:03:59<00:00,  2.72s/it]  \n"
     ]
    },
    {
     "name": "stdout",
     "output_type": "stream",
     "text": [
      "Current r_seed acc,0.6476451139754081\n",
      "Current r_seed f1,0.6368632836181496\n",
      "(539283,)\n",
      "(539283,)\n",
      "Average acc,0.6476451139754081\n",
      "Average f1,0.6368632836181496\n",
      "Std acc,0.0\n"
     ]
    }
   ],
   "source": [
    "eGBDT_ensemble_parm = {\n",
    "    'ini_train_size': 100,\n",
    "    'win_size': 100,\n",
    "    'max_tree': 10000,\n",
    "    'max_num_inc_tree': 125, \n",
    "    'gap_num_inc_tree': 25\n",
    "}\n",
    "\n",
    "GBDT_pram = {\n",
    "    'max_iter': 200,\n",
    "    'sample_rate': 0.8,\n",
    "    'learn_rate': 0.01,\n",
    "    'max_depth': 4\n",
    "}\n",
    "\n",
    "eGBDT_ensemble_parm.update(GBDT_pram)\n",
    "dataset_name = 'airline'\n",
    "exp_realworld(path, dataset_name, num_run, evaluation_eGBDT_ensemble,\n",
    "              **eGBDT_ensemble_parm)"
   ]
  },
  {
   "cell_type": "markdown",
   "metadata": {},
   "source": [
    "### Usenet1 Setting"
   ]
  },
  {
   "cell_type": "markdown",
   "metadata": {},
   "source": [
    "#### eGBDT"
   ]
  },
  {
   "cell_type": "code",
   "execution_count": 39,
   "metadata": {
    "ExecuteTime": {
     "end_time": "2021-05-11T06:42:53.432725Z",
     "start_time": "2021-05-11T06:42:46.388262Z"
    }
   },
   "outputs": [
    {
     "name": "stdout",
     "output_type": "stream",
     "text": [
      "====================\n",
      "      usenet10      \n"
     ]
    },
    {
     "name": "stderr",
     "output_type": "stream",
     "text": [
      "#batch: 100%|██████████| 36/36 [00:06<00:00,  5.61it/s]"
     ]
    },
    {
     "name": "stdout",
     "output_type": "stream",
     "text": [
      "Num tree at the end,322\n",
      "Current r_seed acc,0.6787671232876712\n",
      "Current r_seed f1,0.678048032784804\n",
      "(1460,)\n",
      "(1460,)\n",
      "Average acc,0.6787671232876712\n",
      "Average f1,0.678048032784804\n",
      "Std acc,0.0\n"
     ]
    },
    {
     "name": "stderr",
     "output_type": "stream",
     "text": [
      "\n"
     ]
    }
   ],
   "source": [
    "eGBDT_parm = {\n",
    "    'ini_train_size': 40,\n",
    "    'win_size': 40,\n",
    "    'max_tree': 10000,\n",
    "    'num_ince_tree': 25\n",
    "}\n",
    "\n",
    "GBDT_pram = {\n",
    "    'max_iter': 200,\n",
    "    'sample_rate': 0.8,\n",
    "    'learn_rate': 0.01,\n",
    "    'max_depth': 4\n",
    "}\n",
    "\n",
    "eGBDT_parm.update(GBDT_pram)\n",
    "dataset_name = 'usenet1'\n",
    "exp_realworld(path, dataset_name, num_run, evaluation_eGBDT,\n",
    "              **eGBDT_parm)"
   ]
  },
  {
   "cell_type": "markdown",
   "metadata": {},
   "source": [
    "#### eGBDT Ensemble"
   ]
  },
  {
   "cell_type": "code",
   "execution_count": 45,
   "metadata": {
    "ExecuteTime": {
     "end_time": "2021-05-11T07:10:38.550005Z",
     "start_time": "2021-05-11T07:09:51.619697Z"
    }
   },
   "outputs": [
    {
     "name": "stdout",
     "output_type": "stream",
     "text": [
      "====================\n",
      "      usenet10      \n"
     ]
    },
    {
     "name": "stderr",
     "output_type": "stream",
     "text": [
      "#batch: 100%|██████████| 36/36 [00:44<00:00,  1.23s/it]"
     ]
    },
    {
     "name": "stdout",
     "output_type": "stream",
     "text": [
      "Current r_seed acc,0.7136986301369863\n",
      "Current r_seed f1,0.71362124499771\n",
      "(1460,)\n",
      "(1460,)\n",
      "Average acc,0.7136986301369863\n",
      "Average f1,0.71362124499771\n",
      "Std acc,0.0\n"
     ]
    },
    {
     "name": "stderr",
     "output_type": "stream",
     "text": [
      "\n"
     ]
    }
   ],
   "source": [
    "eGBDT_ensemble_parm = {\n",
    "    'ini_train_size': 40,\n",
    "    'win_size': 40,\n",
    "    'max_tree': 10000,\n",
    "    'max_num_inc_tree': 125,\n",
    "    'gap_num_inc_tree': 25\n",
    "}\n",
    "\n",
    "GBDT_pram = {\n",
    "    'max_iter': 200,\n",
    "    'sample_rate': 0.8,\n",
    "    'learn_rate': 0.01,\n",
    "    'max_depth': 4\n",
    "}\n",
    "\n",
    "eGBDT_ensemble_parm.update(GBDT_pram)\n",
    "dataset_name = 'usenet1'\n",
    "exp_realworld(path, dataset_name, num_run, evaluation_eGBDT_ensemble,\n",
    "              **eGBDT_ensemble_parm)"
   ]
  },
  {
   "cell_type": "markdown",
   "metadata": {},
   "source": [
    "### usenet2 Setting "
   ]
  },
  {
   "cell_type": "markdown",
   "metadata": {},
   "source": [
    "#### eGBDT "
   ]
  },
  {
   "cell_type": "code",
   "execution_count": 40,
   "metadata": {
    "ExecuteTime": {
     "end_time": "2021-05-11T06:42:58.869863Z",
     "start_time": "2021-05-11T06:42:53.433872Z"
    }
   },
   "outputs": [
    {
     "name": "stdout",
     "output_type": "stream",
     "text": [
      "====================\n",
      "      usenet20      \n"
     ]
    },
    {
     "name": "stderr",
     "output_type": "stream",
     "text": [
      "#batch: 100%|██████████| 36/36 [00:04<00:00,  7.49it/s]"
     ]
    },
    {
     "name": "stdout",
     "output_type": "stream",
     "text": [
      "Num tree at the end,423\n",
      "Current r_seed acc,0.7212328767123287\n",
      "Current r_seed f1,0.6454481719596057\n",
      "(1460,)\n",
      "(1460,)\n",
      "Average acc,0.7212328767123287\n",
      "Average f1,0.6454481719596057\n",
      "Std acc,0.0\n"
     ]
    },
    {
     "name": "stderr",
     "output_type": "stream",
     "text": [
      "\n"
     ]
    }
   ],
   "source": [
    "eGBDT_parm = {\n",
    "    'ini_train_size': 40,\n",
    "    'win_size': 40,\n",
    "    'max_tree': 10000,\n",
    "    'num_ince_tree': 25\n",
    "}\n",
    "\n",
    "GBDT_pram = {\n",
    "    'max_iter': 200,\n",
    "    'sample_rate': 0.8,\n",
    "    'learn_rate': 0.01,\n",
    "    'max_depth': 4\n",
    "}\n",
    "\n",
    "eGBDT_parm.update(GBDT_pram)\n",
    "dataset_name = 'usenet2'\n",
    "exp_realworld(path, dataset_name, num_run, evaluation_eGBDT,\n",
    "              **eGBDT_parm)"
   ]
  },
  {
   "cell_type": "markdown",
   "metadata": {},
   "source": [
    "#### eGBDT Ensemble "
   ]
  },
  {
   "cell_type": "code",
   "execution_count": 46,
   "metadata": {
    "ExecuteTime": {
     "end_time": "2021-05-11T07:11:26.062860Z",
     "start_time": "2021-05-11T07:10:38.551488Z"
    }
   },
   "outputs": [
    {
     "name": "stdout",
     "output_type": "stream",
     "text": [
      "====================\n",
      "      usenet20      \n"
     ]
    },
    {
     "name": "stderr",
     "output_type": "stream",
     "text": [
      "#batch: 100%|██████████| 36/36 [00:44<00:00,  1.24s/it]"
     ]
    },
    {
     "name": "stdout",
     "output_type": "stream",
     "text": [
      "Current r_seed acc,0.7671232876712328\n",
      "Current r_seed f1,0.7030951315735958\n",
      "(1460,)\n",
      "(1460,)\n",
      "Average acc,0.7671232876712328\n",
      "Average f1,0.7030951315735958\n",
      "Std acc,0.0\n"
     ]
    },
    {
     "name": "stderr",
     "output_type": "stream",
     "text": [
      "\n"
     ]
    }
   ],
   "source": [
    "eGBDT_ensemble_parm = {\n",
    "    'ini_train_size': 40,\n",
    "    'win_size': 40,\n",
    "    'max_tree': 10000,\n",
    "    'max_num_inc_tree': 125,\n",
    "    'gap_num_inc_tree': 25\n",
    "}\n",
    "\n",
    "GBDT_pram = {\n",
    "    'max_iter': 200,\n",
    "    'sample_rate': 0.8,\n",
    "    'learn_rate': 0.01,\n",
    "    'max_depth': 4\n",
    "}\n",
    "\n",
    "eGBDT_ensemble_parm.update(GBDT_pram)\n",
    "dataset_name = 'usenet2'\n",
    "exp_realworld(path, dataset_name, num_run, evaluation_eGBDT_ensemble,\n",
    "              **eGBDT_ensemble_parm)"
   ]
  },
  {
   "cell_type": "markdown",
   "metadata": {},
   "source": [
    "### spam Setting "
   ]
  },
  {
   "cell_type": "markdown",
   "metadata": {},
   "source": [
    "#### eGBDT "
   ]
  },
  {
   "cell_type": "code",
   "execution_count": 41,
   "metadata": {
    "ExecuteTime": {
     "end_time": "2021-05-11T06:43:42.216256Z",
     "start_time": "2021-05-11T06:42:58.871015Z"
    }
   },
   "outputs": [
    {
     "name": "stdout",
     "output_type": "stream",
     "text": [
      "====================\n",
      "spam_corpus_x2_feature_selected0\n"
     ]
    },
    {
     "name": "stderr",
     "output_type": "stream",
     "text": [
      "#batch: 100%|██████████| 92/92 [00:40<00:00,  2.29it/s]"
     ]
    },
    {
     "name": "stdout",
     "output_type": "stream",
     "text": [
      "Num tree at the end,1127\n",
      "Current r_seed acc,0.9246530789245446\n",
      "Current r_seed f1,0.9032680274672158\n",
      "(9224,)\n",
      "(9224,)\n",
      "Average acc,0.9246530789245446\n",
      "Average f1,0.9032680274672158\n",
      "Std acc,0.0\n"
     ]
    },
    {
     "name": "stderr",
     "output_type": "stream",
     "text": [
      "\n"
     ]
    }
   ],
   "source": [
    "eGBDT_parm = {\n",
    "    'ini_train_size': 100,\n",
    "    'win_size': 100,\n",
    "    'max_tree': 10000,\n",
    "    'num_ince_tree': 25\n",
    "}\n",
    "\n",
    "GBDT_pram = {\n",
    "    'max_iter': 200,\n",
    "    'sample_rate': 0.8,\n",
    "    'learn_rate': 0.01,\n",
    "    'max_depth': 4\n",
    "}\n",
    "\n",
    "eGBDT_parm.update(GBDT_pram)\n",
    "dataset_name = 'spam_corpus_x2_feature_selected'\n",
    "exp_realworld(path, dataset_name, num_run, evaluation_eGBDT,\n",
    "              **eGBDT_parm)"
   ]
  },
  {
   "cell_type": "markdown",
   "metadata": {},
   "source": [
    "#### eGBDT Ensemble "
   ]
  },
  {
   "cell_type": "code",
   "execution_count": 47,
   "metadata": {
    "ExecuteTime": {
     "end_time": "2021-05-11T07:16:51.332125Z",
     "start_time": "2021-05-11T07:11:26.064227Z"
    }
   },
   "outputs": [
    {
     "name": "stdout",
     "output_type": "stream",
     "text": [
      "====================\n",
      "spam_corpus_x2_feature_selected0\n"
     ]
    },
    {
     "name": "stderr",
     "output_type": "stream",
     "text": [
      "#batch: 100%|██████████| 92/92 [05:16<00:00,  3.44s/it]"
     ]
    },
    {
     "name": "stdout",
     "output_type": "stream",
     "text": [
      "Current r_seed acc,0.9410234171725932\n",
      "Current r_seed f1,0.9228799286872459\n",
      "(9224,)\n",
      "(9224,)\n",
      "Average acc,0.9410234171725932\n",
      "Average f1,0.9228799286872459\n",
      "Std acc,0.0\n"
     ]
    },
    {
     "name": "stderr",
     "output_type": "stream",
     "text": [
      "\n"
     ]
    }
   ],
   "source": [
    "eGBDT_ensemble_parm = {\n",
    "    'ini_train_size': 100,\n",
    "    'win_size': 100,\n",
    "    'max_tree': 10000,\n",
    "    'max_num_inc_tree': 125, \n",
    "    'gap_num_inc_tree': 25\n",
    "}\n",
    "\n",
    "GBDT_pram = {\n",
    "    'max_iter': 200,\n",
    "    'sample_rate': 0.8,\n",
    "    'learn_rate': 0.01,\n",
    "    'max_depth': 4\n",
    "}\n",
    "\n",
    "eGBDT_ensemble_parm.update(GBDT_pram)\n",
    "dataset_name = 'spam_corpus_x2_feature_selected'\n",
    "exp_realworld(path, dataset_name, num_run, evaluation_eGBDT_ensemble,\n",
    "              **eGBDT_ensemble_parm)"
   ]
  },
  {
   "cell_type": "markdown",
   "metadata": {},
   "source": [
    "## GBDT Baseline"
   ]
  },
  {
   "cell_type": "markdown",
   "metadata": {},
   "source": [
    "### elecNorm"
   ]
  },
  {
   "cell_type": "code",
   "execution_count": 11,
   "metadata": {
    "ExecuteTime": {
     "end_time": "2021-05-11T01:48:49.592638Z",
     "start_time": "2021-05-11T01:48:42.159969Z"
    }
   },
   "outputs": [
    {
     "name": "stdout",
     "output_type": "stream",
     "text": [
      "====================\n",
      "     elecNorm0      \n"
     ]
    },
    {
     "name": "stderr",
     "output_type": "stream",
     "text": [
      "#batch: 100%|██████████| 452/452 [00:05<00:00, 80.34it/s]\n"
     ]
    },
    {
     "name": "stdout",
     "output_type": "stream",
     "text": [
      "Current r_seed acc,0.6512651508449084\n",
      "Current r_seed f1,0.6512621330136612\n",
      "(45212,)\n",
      "(45212,)\n",
      "Average acc,0.6512651508449084\n",
      "Average f1,0.6512621330136612\n",
      "Std acc,0.0\n"
     ]
    }
   ],
   "source": [
    "GBDT_base = {\n",
    "    'ini_train_size': 100,\n",
    "    'win_size': 100,\n",
    "}\n",
    "\n",
    "GBDT_pram = {\n",
    "    'max_iter': 200,\n",
    "    'sample_rate': 0.8,\n",
    "    'learn_rate': 0.01,\n",
    "    'max_depth': 4\n",
    "}\n",
    "\n",
    "GBDT_base.update(GBDT_pram)\n",
    "dataset_name = 'elecNorm'\n",
    "exp_realworld(path, dataset_name, num_run, evaluation_baseline_GBDT,\n",
    "              **GBDT_base)"
   ]
  },
  {
   "cell_type": "markdown",
   "metadata": {},
   "source": [
    "### weather"
   ]
  },
  {
   "cell_type": "code",
   "execution_count": 12,
   "metadata": {
    "ExecuteTime": {
     "end_time": "2021-05-11T01:48:55.546347Z",
     "start_time": "2021-05-11T01:48:49.594132Z"
    }
   },
   "outputs": [
    {
     "name": "stdout",
     "output_type": "stream",
     "text": [
      "====================\n",
      "      weather0      \n"
     ]
    },
    {
     "name": "stderr",
     "output_type": "stream",
     "text": [
      "#batch: 100%|██████████| 69/69 [00:01<00:00, 66.97it/s]\n"
     ]
    },
    {
     "name": "stdout",
     "output_type": "stream",
     "text": [
      "Current r_seed acc,0.7427655278888405\n",
      "Current r_seed f1,0.6829392195410682\n",
      "(25261,)\n",
      "(25261,)\n",
      "Average acc,0.7427655278888405\n",
      "Average f1,0.6829392195410682\n",
      "Std acc,0.0\n"
     ]
    }
   ],
   "source": [
    "GBDT_base = {\n",
    "    'ini_train_size': 365,\n",
    "    'win_size': 365,\n",
    "}\n",
    "\n",
    "GBDT_pram = {\n",
    "    'max_iter': 200,\n",
    "    'sample_rate': 0.8,\n",
    "    'learn_rate': 0.01,\n",
    "    'max_depth': 4\n",
    "}\n",
    "\n",
    "GBDT_base.update(GBDT_pram)\n",
    "dataset_name = 'weather'\n",
    "exp_realworld(path, dataset_name, num_run, evaluation_baseline_GBDT,\n",
    "              **GBDT_base)"
   ]
  },
  {
   "cell_type": "markdown",
   "metadata": {},
   "source": [
    "### airline"
   ]
  },
  {
   "cell_type": "code",
   "execution_count": 13,
   "metadata": {
    "ExecuteTime": {
     "end_time": "2021-05-11T01:50:19.815343Z",
     "start_time": "2021-05-11T01:48:55.548772Z"
    }
   },
   "outputs": [
    {
     "name": "stdout",
     "output_type": "stream",
     "text": [
      "====================\n",
      "      airline0      \n"
     ]
    },
    {
     "name": "stderr",
     "output_type": "stream",
     "text": [
      "#batch: 100%|██████████| 5392/5392 [01:14<00:00, 72.02it/s]\n"
     ]
    },
    {
     "name": "stdout",
     "output_type": "stream",
     "text": [
      "Current r_seed acc,0.5476456702695988\n",
      "Current r_seed f1,0.4602815321940583\n",
      "(539283,)\n",
      "(539283,)\n",
      "Average acc,0.5476456702695988\n",
      "Average f1,0.4602815321940583\n",
      "Std acc,0.0\n"
     ]
    }
   ],
   "source": [
    "GBDT_base = {\n",
    "    'ini_train_size': 100,\n",
    "    'win_size': 100,\n",
    "}\n",
    "\n",
    "GBDT_pram = {\n",
    "    'max_iter': 200,\n",
    "    'sample_rate': 0.8,\n",
    "    'learn_rate': 0.01,\n",
    "    'max_depth': 4\n",
    "}\n",
    "\n",
    "GBDT_base.update(GBDT_pram)\n",
    "dataset_name = 'airline'\n",
    "exp_realworld(path, dataset_name, num_run, evaluation_baseline_GBDT,\n",
    "              **GBDT_base)"
   ]
  },
  {
   "cell_type": "markdown",
   "metadata": {},
   "source": [
    "### usenet1"
   ]
  },
  {
   "cell_type": "code",
   "execution_count": 14,
   "metadata": {
    "ExecuteTime": {
     "end_time": "2021-05-11T01:50:20.923230Z",
     "start_time": "2021-05-11T01:50:19.816908Z"
    }
   },
   "outputs": [
    {
     "name": "stdout",
     "output_type": "stream",
     "text": [
      "====================\n",
      "      usenet10      \n"
     ]
    },
    {
     "name": "stderr",
     "output_type": "stream",
     "text": [
      "#batch: 100%|██████████| 36/36 [00:00<00:00, 76.37it/s]"
     ]
    },
    {
     "name": "stdout",
     "output_type": "stream",
     "text": [
      "Current r_seed acc,0.576027397260274\n",
      "Current r_seed f1,0.5248872465445843\n",
      "(1460,)\n",
      "(1460,)\n",
      "Average acc,0.576027397260274\n",
      "Average f1,0.5248872465445843\n",
      "Std acc,0.0\n"
     ]
    },
    {
     "name": "stderr",
     "output_type": "stream",
     "text": [
      "\n"
     ]
    }
   ],
   "source": [
    "GBDT_base = {\n",
    "    'ini_train_size': 40,\n",
    "    'win_size': 40,\n",
    "}\n",
    "\n",
    "GBDT_pram = {\n",
    "    'max_iter': 200,\n",
    "    'sample_rate': 0.8,\n",
    "    'learn_rate': 0.01,\n",
    "    'max_depth': 4\n",
    "}\n",
    "\n",
    "GBDT_base.update(GBDT_pram)\n",
    "dataset_name = 'usenet1'\n",
    "exp_realworld(path, dataset_name, num_run, evaluation_baseline_GBDT,\n",
    "              **GBDT_base)"
   ]
  },
  {
   "cell_type": "markdown",
   "metadata": {},
   "source": [
    "### usenet2"
   ]
  },
  {
   "cell_type": "code",
   "execution_count": 15,
   "metadata": {
    "ExecuteTime": {
     "end_time": "2021-05-11T01:50:22.025145Z",
     "start_time": "2021-05-11T01:50:20.924400Z"
    }
   },
   "outputs": [
    {
     "name": "stdout",
     "output_type": "stream",
     "text": [
      "====================\n",
      "      usenet20      \n"
     ]
    },
    {
     "name": "stderr",
     "output_type": "stream",
     "text": [
      "#batch: 100%|██████████| 36/36 [00:00<00:00, 76.20it/s]"
     ]
    },
    {
     "name": "stdout",
     "output_type": "stream",
     "text": [
      "Current r_seed acc,0.5506849315068493\n",
      "Current r_seed f1,0.5454959606390087\n",
      "(1460,)\n",
      "(1460,)\n",
      "Average acc,0.5506849315068493\n",
      "Average f1,0.5454959606390087\n",
      "Std acc,0.0\n"
     ]
    },
    {
     "name": "stderr",
     "output_type": "stream",
     "text": [
      "\n"
     ]
    }
   ],
   "source": [
    "GBDT_base = {\n",
    "    'ini_train_size': 40,\n",
    "    'win_size': 40,\n",
    "}\n",
    "\n",
    "GBDT_pram = {\n",
    "    'max_iter': 200,\n",
    "    'sample_rate': 0.8,\n",
    "    'learn_rate': 0.01,\n",
    "    'max_depth': 4\n",
    "}\n",
    "\n",
    "GBDT_base.update(GBDT_pram)\n",
    "dataset_name = 'usenet2'\n",
    "exp_realworld(path, dataset_name, num_run, evaluation_baseline_GBDT,\n",
    "              **GBDT_base)"
   ]
  },
  {
   "cell_type": "markdown",
   "metadata": {},
   "source": [
    "### spam"
   ]
  },
  {
   "cell_type": "code",
   "execution_count": 16,
   "metadata": {
    "ExecuteTime": {
     "end_time": "2021-05-11T01:50:27.849678Z",
     "start_time": "2021-05-11T01:50:22.026504Z"
    }
   },
   "outputs": [
    {
     "name": "stdout",
     "output_type": "stream",
     "text": [
      "====================\n",
      "spam_corpus_x2_feature_selected0\n"
     ]
    },
    {
     "name": "stderr",
     "output_type": "stream",
     "text": [
      "#batch: 100%|██████████| 92/92 [00:02<00:00, 35.45it/s]"
     ]
    },
    {
     "name": "stdout",
     "output_type": "stream",
     "text": [
      "Current r_seed acc,0.24794015611448394\n",
      "Current r_seed f1,0.19867952393362873\n",
      "(9224,)\n",
      "(9224,)\n",
      "Average acc,0.24794015611448394\n",
      "Average f1,0.19867952393362873\n",
      "Std acc,0.0\n"
     ]
    },
    {
     "name": "stderr",
     "output_type": "stream",
     "text": [
      "\n"
     ]
    }
   ],
   "source": [
    "GBDT_base = {\n",
    "    'ini_train_size': 100,\n",
    "    'win_size': 100,\n",
    "}\n",
    "\n",
    "GBDT_pram = {\n",
    "    'max_iter': 200,\n",
    "    'sample_rate': 0.8,\n",
    "    'learn_rate': 0.01,\n",
    "    'max_depth': 4\n",
    "}\n",
    "\n",
    "GBDT_base.update(GBDT_pram)\n",
    "dataset_name = 'spam_corpus_x2_feature_selected'\n",
    "exp_realworld(path, dataset_name, num_run, evaluation_baseline_GBDT,\n",
    "              **GBDT_base)"
   ]
  },
  {
   "cell_type": "markdown",
   "metadata": {},
   "source": [
    "## Sliding GBDT"
   ]
  },
  {
   "cell_type": "markdown",
   "metadata": {},
   "source": [
    "### elecNorm"
   ]
  },
  {
   "cell_type": "code",
   "execution_count": 20,
   "metadata": {
    "ExecuteTime": {
     "end_time": "2021-05-11T02:06:58.514029Z",
     "start_time": "2021-05-11T01:57:19.263505Z"
    }
   },
   "outputs": [
    {
     "name": "stdout",
     "output_type": "stream",
     "text": [
      "====================\n",
      "     elecNorm0      \n"
     ]
    },
    {
     "name": "stderr",
     "output_type": "stream",
     "text": [
      "#batch: 100%|██████████| 452/452 [09:37<00:00,  1.28s/it]"
     ]
    },
    {
     "name": "stdout",
     "output_type": "stream",
     "text": [
      "Current r_seed acc,0.7771609307263558\n",
      "Current r_seed f1,0.7705452788928069\n",
      "(45212,)\n",
      "(45212,)\n",
      "Average acc,0.7771609307263558\n",
      "Average f1,0.7705452788928069\n",
      "Std acc,0.0\n"
     ]
    },
    {
     "name": "stderr",
     "output_type": "stream",
     "text": [
      "\n"
     ]
    }
   ],
   "source": [
    "GBDT_sliding = {\n",
    "    'ini_train_size': 100,\n",
    "    'win_size': 100,\n",
    "}\n",
    "\n",
    "GBDT_pram = {\n",
    "    'max_iter': 200,\n",
    "    'sample_rate': 0.8,\n",
    "    'learn_rate': 0.01,\n",
    "    'max_depth': 4\n",
    "}\n",
    "\n",
    "GBDT_sliding.update(GBDT_pram)\n",
    "dataset_name = 'elecNorm'\n",
    "exp_realworld(path, dataset_name, num_run, evaluation_sliding_GBDT,\n",
    "              **GBDT_sliding)"
   ]
  },
  {
   "cell_type": "markdown",
   "metadata": {},
   "source": [
    "### weather"
   ]
  },
  {
   "cell_type": "code",
   "execution_count": 21,
   "metadata": {
    "ExecuteTime": {
     "end_time": "2021-05-11T02:12:18.691573Z",
     "start_time": "2021-05-11T02:06:58.515534Z"
    }
   },
   "outputs": [
    {
     "name": "stdout",
     "output_type": "stream",
     "text": [
      "====================\n",
      "      weather0      \n"
     ]
    },
    {
     "name": "stderr",
     "output_type": "stream",
     "text": [
      "#batch: 100%|██████████| 69/69 [05:15<00:00,  4.57s/it]"
     ]
    },
    {
     "name": "stdout",
     "output_type": "stream",
     "text": [
      "Current r_seed acc,0.7714263093305886\n",
      "Current r_seed f1,0.7280053004882026\n",
      "(25261,)\n",
      "(25261,)\n",
      "Average acc,0.7714263093305886\n",
      "Average f1,0.7280053004882026\n",
      "Std acc,0.0\n"
     ]
    },
    {
     "name": "stderr",
     "output_type": "stream",
     "text": [
      "\n"
     ]
    }
   ],
   "source": [
    "GBDT_sliding = {\n",
    "    'ini_train_size': 365,\n",
    "    'win_size': 365,\n",
    "}\n",
    "\n",
    "GBDT_pram = {\n",
    "    'max_iter': 200,\n",
    "    'sample_rate': 0.8,\n",
    "    'learn_rate': 0.01,\n",
    "    'max_depth': 4\n",
    "}\n",
    "\n",
    "GBDT_sliding.update(GBDT_pram)\n",
    "dataset_name = 'weather'\n",
    "exp_realworld(path, dataset_name, num_run, evaluation_sliding_GBDT,\n",
    "              **GBDT_sliding)"
   ]
  },
  {
   "cell_type": "markdown",
   "metadata": {},
   "source": [
    "### airline"
   ]
  },
  {
   "cell_type": "code",
   "execution_count": 25,
   "metadata": {
    "ExecuteTime": {
     "end_time": "2021-05-11T04:10:43.641685Z",
     "start_time": "2021-05-11T02:15:17.676657Z"
    }
   },
   "outputs": [
    {
     "name": "stdout",
     "output_type": "stream",
     "text": [
      "====================\n",
      "      airline0      \n"
     ]
    },
    {
     "name": "stderr",
     "output_type": "stream",
     "text": [
      "#batch: 100%|██████████| 5392/5392 [1:55:16<00:00,  1.28s/it]\n"
     ]
    },
    {
     "name": "stdout",
     "output_type": "stream",
     "text": [
      "Current r_seed acc,0.608394850199246\n",
      "Current r_seed f1,0.6003027347044299\n",
      "(539283,)\n",
      "(539283,)\n",
      "Average acc,0.608394850199246\n",
      "Average f1,0.6003027347044299\n",
      "Std acc,0.0\n"
     ]
    }
   ],
   "source": [
    "GBDT_sliding = {\n",
    "    'ini_train_size': 100,\n",
    "    'win_size': 100,\n",
    "}\n",
    "\n",
    "GBDT_pram = {\n",
    "    'max_iter': 200,\n",
    "    'sample_rate': 0.8,\n",
    "    'learn_rate': 0.01,\n",
    "    'max_depth': 4\n",
    "}\n",
    "\n",
    "GBDT_sliding.update(GBDT_pram)\n",
    "dataset_name = 'airline'\n",
    "exp_realworld(path, dataset_name, num_run, evaluation_sliding_GBDT,\n",
    "              **GBDT_sliding)"
   ]
  },
  {
   "cell_type": "markdown",
   "metadata": {},
   "source": [
    "### usenet1"
   ]
  },
  {
   "cell_type": "code",
   "execution_count": 22,
   "metadata": {
    "ExecuteTime": {
     "end_time": "2021-05-11T02:12:39.425002Z",
     "start_time": "2021-05-11T02:12:18.693242Z"
    }
   },
   "outputs": [
    {
     "name": "stdout",
     "output_type": "stream",
     "text": [
      "====================\n",
      "      usenet10      \n"
     ]
    },
    {
     "name": "stderr",
     "output_type": "stream",
     "text": [
      "#batch: 100%|██████████| 36/36 [00:20<00:00,  1.79it/s]"
     ]
    },
    {
     "name": "stdout",
     "output_type": "stream",
     "text": [
      "Current r_seed acc,0.7143835616438357\n",
      "Current r_seed f1,0.7137441997255082\n",
      "(1460,)\n",
      "(1460,)\n",
      "Average acc,0.7143835616438357\n",
      "Average f1,0.7137441997255082\n",
      "Std acc,0.0\n"
     ]
    },
    {
     "name": "stderr",
     "output_type": "stream",
     "text": [
      "\n"
     ]
    }
   ],
   "source": [
    "GBDT_sliding = {\n",
    "    'ini_train_size': 40,\n",
    "    'win_size': 40,\n",
    "}\n",
    "\n",
    "GBDT_pram = {\n",
    "    'max_iter': 200,\n",
    "    'sample_rate': 0.8,\n",
    "    'learn_rate': 0.01,\n",
    "    'max_depth': 4\n",
    "}\n",
    "\n",
    "GBDT_sliding.update(GBDT_pram)\n",
    "dataset_name = 'usenet1'\n",
    "exp_realworld(path, dataset_name, num_run, evaluation_sliding_GBDT,\n",
    "              **GBDT_sliding)"
   ]
  },
  {
   "cell_type": "markdown",
   "metadata": {},
   "source": [
    "### usenet2"
   ]
  },
  {
   "cell_type": "code",
   "execution_count": 23,
   "metadata": {
    "ExecuteTime": {
     "end_time": "2021-05-11T02:13:00.279576Z",
     "start_time": "2021-05-11T02:12:39.426519Z"
    }
   },
   "outputs": [
    {
     "name": "stdout",
     "output_type": "stream",
     "text": [
      "====================\n",
      "      usenet20      \n"
     ]
    },
    {
     "name": "stderr",
     "output_type": "stream",
     "text": [
      "#batch: 100%|██████████| 36/36 [00:20<00:00,  1.78it/s]"
     ]
    },
    {
     "name": "stdout",
     "output_type": "stream",
     "text": [
      "Current r_seed acc,0.7534246575342466\n",
      "Current r_seed f1,0.6881408065618593\n",
      "(1460,)\n",
      "(1460,)\n",
      "Average acc,0.7534246575342466\n",
      "Average f1,0.6881408065618593\n",
      "Std acc,0.0\n"
     ]
    },
    {
     "name": "stderr",
     "output_type": "stream",
     "text": [
      "\n"
     ]
    }
   ],
   "source": [
    "GBDT_sliding = {\n",
    "    'ini_train_size': 40,\n",
    "    'win_size': 40,\n",
    "}\n",
    "\n",
    "GBDT_pram = {\n",
    "    'max_iter': 200,\n",
    "    'sample_rate': 0.8,\n",
    "    'learn_rate': 0.01,\n",
    "    'max_depth': 4\n",
    "}\n",
    "\n",
    "GBDT_sliding.update(GBDT_pram)\n",
    "dataset_name = 'usenet2'\n",
    "exp_realworld(path, dataset_name, num_run, evaluation_sliding_GBDT,\n",
    "              **GBDT_sliding)"
   ]
  },
  {
   "cell_type": "markdown",
   "metadata": {},
   "source": [
    "### spam"
   ]
  },
  {
   "cell_type": "code",
   "execution_count": 24,
   "metadata": {
    "ExecuteTime": {
     "end_time": "2021-05-11T02:15:17.675166Z",
     "start_time": "2021-05-11T02:13:00.280739Z"
    }
   },
   "outputs": [
    {
     "name": "stdout",
     "output_type": "stream",
     "text": [
      "====================\n",
      "spam_corpus_x2_feature_selected0\n"
     ]
    },
    {
     "name": "stderr",
     "output_type": "stream",
     "text": [
      "#batch: 100%|██████████| 92/92 [02:14<00:00,  1.46s/it]"
     ]
    },
    {
     "name": "stdout",
     "output_type": "stream",
     "text": [
      "Current r_seed acc,0.8799869904596704\n",
      "Current r_seed f1,0.8352914293479075\n",
      "(9224,)\n",
      "(9224,)\n",
      "Average acc,0.8799869904596704\n",
      "Average f1,0.8352914293479075\n",
      "Std acc,0.0\n"
     ]
    },
    {
     "name": "stderr",
     "output_type": "stream",
     "text": [
      "\n"
     ]
    }
   ],
   "source": [
    "GBDT_sliding = {\n",
    "    'ini_train_size': 100,\n",
    "    'win_size': 100,\n",
    "}\n",
    "\n",
    "GBDT_pram = {\n",
    "    'max_iter': 200,\n",
    "    'sample_rate': 0.8,\n",
    "    'learn_rate': 0.01,\n",
    "    'max_depth': 4\n",
    "}\n",
    "\n",
    "GBDT_sliding.update(GBDT_pram)\n",
    "dataset_name = 'spam_corpus_x2_feature_selected'\n",
    "exp_realworld(path, dataset_name, num_run, evaluation_sliding_GBDT,\n",
    "              **GBDT_sliding)"
   ]
  },
  {
   "cell_type": "markdown",
   "metadata": {},
   "source": [
    "## iGBDT"
   ]
  },
  {
   "cell_type": "markdown",
   "metadata": {},
   "source": [
    "### elecNorm"
   ]
  },
  {
   "cell_type": "code",
   "execution_count": 27,
   "metadata": {
    "ExecuteTime": {
     "end_time": "2021-05-11T04:17:05.424690Z",
     "start_time": "2021-05-11T04:10:43.655763Z"
    }
   },
   "outputs": [
    {
     "name": "stdout",
     "output_type": "stream",
     "text": [
      "====================\n",
      "     elecNorm0      \n"
     ]
    },
    {
     "name": "stderr",
     "output_type": "stream",
     "text": [
      "#batch: 100%|██████████| 452/452 [06:19<00:00,  1.19it/s]\n"
     ]
    },
    {
     "name": "stdout",
     "output_type": "stream",
     "text": [
      "Current r_seed acc,0.7805228700345042\n",
      "Current r_seed f1,0.7748526057951237\n",
      "(45212,)\n",
      "(45212,)\n",
      "Average acc,0.7805228700345042\n",
      "Average f1,0.7748526057951237\n",
      "Std acc,0.0\n"
     ]
    }
   ],
   "source": [
    "iGBDT = {\n",
    "    'ini_train_size': 100,\n",
    "    'win_size': 100,\n",
    "    'num_inc_tree': 25\n",
    "}\n",
    "\n",
    "GBDT_pram = {\n",
    "    'max_iter': 200,\n",
    "    'sample_rate': 0.8,\n",
    "    'learn_rate': 0.01,\n",
    "    'max_depth': 4\n",
    "}\n",
    "\n",
    "iGBDT.update(GBDT_pram)\n",
    "dataset_name = 'elecNorm'\n",
    "exp_realworld(path, dataset_name, num_run,evaluation_naive_iGBDT,\n",
    "              **iGBDT)"
   ]
  },
  {
   "cell_type": "markdown",
   "metadata": {},
   "source": [
    "### weather"
   ]
  },
  {
   "cell_type": "code",
   "execution_count": 28,
   "metadata": {
    "ExecuteTime": {
     "end_time": "2021-05-11T04:17:59.788372Z",
     "start_time": "2021-05-11T04:17:05.426267Z"
    }
   },
   "outputs": [
    {
     "name": "stdout",
     "output_type": "stream",
     "text": [
      "====================\n",
      "      weather0      \n"
     ]
    },
    {
     "name": "stderr",
     "output_type": "stream",
     "text": [
      "#batch: 100%|██████████| 69/69 [00:49<00:00,  1.39it/s]"
     ]
    },
    {
     "name": "stdout",
     "output_type": "stream",
     "text": [
      "Current r_seed acc,0.7911404932504651\n",
      "Current r_seed f1,0.7528131703478292\n",
      "(25261,)\n",
      "(25261,)\n",
      "Average acc,0.7911404932504651\n",
      "Average f1,0.7528131703478292\n",
      "Std acc,0.0\n"
     ]
    },
    {
     "name": "stderr",
     "output_type": "stream",
     "text": [
      "\n"
     ]
    }
   ],
   "source": [
    "iGBDT = {\n",
    "    'ini_train_size': 365,\n",
    "    'win_size': 365,\n",
    "    'num_inc_tree': 25\n",
    "}\n",
    "\n",
    "GBDT_pram = {\n",
    "    'max_iter': 200,\n",
    "    'sample_rate': 0.8,\n",
    "    'learn_rate': 0.01,\n",
    "    'max_depth': 4\n",
    "}\n",
    "\n",
    "iGBDT.update(GBDT_pram)\n",
    "dataset_name = 'weather'\n",
    "exp_realworld(path, dataset_name, num_run,evaluation_naive_iGBDT,\n",
    "              **iGBDT)"
   ]
  },
  {
   "cell_type": "markdown",
   "metadata": {},
   "source": [
    "### airline"
   ]
  },
  {
   "cell_type": "code",
   "execution_count": 51,
   "metadata": {
    "ExecuteTime": {
     "end_time": "2021-05-11T23:51:35.383407Z",
     "start_time": "2021-05-11T11:27:38.379818Z"
    }
   },
   "outputs": [
    {
     "name": "stdout",
     "output_type": "stream",
     "text": [
      "====================\n",
      "      airline0      \n"
     ]
    },
    {
     "name": "stderr",
     "output_type": "stream",
     "text": [
      "#batch: 100%|██████████| 5392/5392 [12:23:47<00:00,  8.28s/it]  \n"
     ]
    },
    {
     "name": "stdout",
     "output_type": "stream",
     "text": [
      "Current r_seed acc,0.5938811347659763\n",
      "Current r_seed f1,0.5891225945556153\n",
      "(539283,)\n",
      "(539283,)\n",
      "Average acc,0.5938811347659763\n",
      "Average f1,0.5891225945556153\n",
      "Std acc,0.0\n"
     ]
    }
   ],
   "source": [
    "iGBDT = {\n",
    "    'ini_train_size': 100,\n",
    "    'win_size': 100,\n",
    "    'num_inc_tree': 25\n",
    "}\n",
    "\n",
    "GBDT_pram = {\n",
    "    'max_iter': 200,\n",
    "    'sample_rate': 0.8,\n",
    "    'learn_rate': 0.01,\n",
    "    'max_depth': 4\n",
    "}\n",
    "\n",
    "iGBDT.update(GBDT_pram)\n",
    "dataset_name = 'airline'\n",
    "exp_realworld(path, dataset_name, num_run,evaluation_naive_iGBDT,\n",
    "              **iGBDT)"
   ]
  },
  {
   "cell_type": "markdown",
   "metadata": {},
   "source": [
    "### usenet1"
   ]
  },
  {
   "cell_type": "code",
   "execution_count": 29,
   "metadata": {
    "ExecuteTime": {
     "end_time": "2021-05-11T04:18:05.739344Z",
     "start_time": "2021-05-11T04:17:59.789802Z"
    }
   },
   "outputs": [
    {
     "name": "stdout",
     "output_type": "stream",
     "text": [
      "====================\n",
      "      usenet10      \n"
     ]
    },
    {
     "name": "stderr",
     "output_type": "stream",
     "text": [
      "#batch: 100%|██████████| 36/36 [00:05<00:00,  6.77it/s]"
     ]
    },
    {
     "name": "stdout",
     "output_type": "stream",
     "text": [
      "Current r_seed acc,0.626027397260274\n",
      "Current r_seed f1,0.6250112897398845\n",
      "(1460,)\n",
      "(1460,)\n",
      "Average acc,0.626027397260274\n",
      "Average f1,0.6250112897398845\n",
      "Std acc,0.0\n"
     ]
    },
    {
     "name": "stderr",
     "output_type": "stream",
     "text": [
      "\n"
     ]
    }
   ],
   "source": [
    "iGBDT = {\n",
    "    'ini_train_size': 40,\n",
    "    'win_size': 40,\n",
    "    'num_inc_tree': 25\n",
    "}\n",
    "\n",
    "GBDT_pram = {\n",
    "    'max_iter': 200,\n",
    "    'sample_rate': 0.8,\n",
    "    'learn_rate': 0.01,\n",
    "    'max_depth': 4\n",
    "}\n",
    "\n",
    "iGBDT.update(GBDT_pram)\n",
    "dataset_name = 'usenet1'\n",
    "exp_realworld(path, dataset_name, num_run,evaluation_naive_iGBDT,\n",
    "              **iGBDT)"
   ]
  },
  {
   "cell_type": "markdown",
   "metadata": {},
   "source": [
    "### usenet2"
   ]
  },
  {
   "cell_type": "code",
   "execution_count": 30,
   "metadata": {
    "ExecuteTime": {
     "end_time": "2021-05-11T04:18:11.711632Z",
     "start_time": "2021-05-11T04:18:05.740497Z"
    }
   },
   "outputs": [
    {
     "name": "stdout",
     "output_type": "stream",
     "text": [
      "====================\n",
      "      usenet20      \n"
     ]
    },
    {
     "name": "stderr",
     "output_type": "stream",
     "text": [
      "#batch: 100%|██████████| 36/36 [00:05<00:00,  6.74it/s]"
     ]
    },
    {
     "name": "stdout",
     "output_type": "stream",
     "text": [
      "Current r_seed acc,0.697945205479452\n",
      "Current r_seed f1,0.6212479065573067\n",
      "(1460,)\n",
      "(1460,)\n",
      "Average acc,0.697945205479452\n",
      "Average f1,0.6212479065573067\n",
      "Std acc,0.0\n"
     ]
    },
    {
     "name": "stderr",
     "output_type": "stream",
     "text": [
      "\n"
     ]
    }
   ],
   "source": [
    "iGBDT = {\n",
    "    'ini_train_size': 40,\n",
    "    'win_size': 40,\n",
    "    'num_inc_tree': 25\n",
    "}\n",
    "\n",
    "GBDT_pram = {\n",
    "    'max_iter': 200,\n",
    "    'sample_rate': 0.8,\n",
    "    'learn_rate': 0.01,\n",
    "    'max_depth': 4\n",
    "}\n",
    "\n",
    "iGBDT.update(GBDT_pram)\n",
    "dataset_name = 'usenet2'\n",
    "exp_realworld(path, dataset_name, num_run,evaluation_naive_iGBDT,\n",
    "              **iGBDT)"
   ]
  },
  {
   "cell_type": "markdown",
   "metadata": {},
   "source": [
    "### spam"
   ]
  },
  {
   "cell_type": "code",
   "execution_count": 31,
   "metadata": {
    "ExecuteTime": {
     "end_time": "2021-05-11T04:19:06.318351Z",
     "start_time": "2021-05-11T04:18:11.712983Z"
    }
   },
   "outputs": [
    {
     "name": "stdout",
     "output_type": "stream",
     "text": [
      "====================\n",
      "spam_corpus_x2_feature_selected0\n"
     ]
    },
    {
     "name": "stderr",
     "output_type": "stream",
     "text": [
      "#batch: 100%|██████████| 92/92 [00:51<00:00,  1.79it/s]"
     ]
    },
    {
     "name": "stdout",
     "output_type": "stream",
     "text": [
      "Current r_seed acc,0.9297484822202949\n",
      "Current r_seed f1,0.9089566468578916\n",
      "(9224,)\n",
      "(9224,)\n",
      "Average acc,0.9297484822202949\n",
      "Average f1,0.9089566468578916\n",
      "Std acc,0.0\n"
     ]
    },
    {
     "name": "stderr",
     "output_type": "stream",
     "text": [
      "\n"
     ]
    }
   ],
   "source": [
    "GBDT_sliding = {\n",
    "    'ini_train_size': 100,\n",
    "    'win_size': 100,\n",
    "    'num_inc_tree': 25\n",
    "}\n",
    "\n",
    "GBDT_pram = {\n",
    "    'max_iter': 200,\n",
    "    'sample_rate': 0.8,\n",
    "    'learn_rate': 0.01,\n",
    "    'max_depth': 4\n",
    "}\n",
    "\n",
    "GBDT_sliding.update(GBDT_pram)\n",
    "dataset_name = 'spam_corpus_x2_feature_selected'\n",
    "exp_realworld(path, dataset_name, num_run, evaluation_naive_iGBDT,\n",
    "              **GBDT_sliding)"
   ]
  },
  {
   "cell_type": "code",
   "execution_count": null,
   "metadata": {
    "collapsed": true
   },
   "outputs": [],
   "source": []
  }
 ],
 "metadata": {
  "kernelspec": {
   "display_name": "Python 3",
   "language": "python",
   "name": "python3"
  },
  "language_info": {
   "codemirror_mode": {
    "name": "ipython",
    "version": 3
   },
   "file_extension": ".py",
   "mimetype": "text/x-python",
   "name": "python",
   "nbconvert_exporter": "python",
   "pygments_lexer": "ipython3",
   "version": "3.7.7"
  },
  "toc": {
   "base_numbering": 1,
   "nav_menu": {},
   "number_sections": true,
   "sideBar": true,
   "skip_h1_title": false,
   "title_cell": "Table of Contents",
   "title_sidebar": "Contents",
   "toc_cell": false,
   "toc_position": {
    "height": "757px",
    "left": "66px",
    "top": "110px",
    "width": "257.983px"
   },
   "toc_section_display": true,
   "toc_window_display": true
  }
 },
 "nbformat": 4,
 "nbformat_minor": 2
}
